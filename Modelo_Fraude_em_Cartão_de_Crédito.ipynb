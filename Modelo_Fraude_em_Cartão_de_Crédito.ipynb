{
  "nbformat": 4,
  "nbformat_minor": 0,
  "metadata": {
    "kernelspec": {
      "display_name": "Python 3",
      "language": "python",
      "name": "python3"
    },
    "language_info": {
      "codemirror_mode": {
        "name": "ipython",
        "version": 3
      },
      "file_extension": ".py",
      "mimetype": "text/x-python",
      "name": "python",
      "nbconvert_exporter": "python",
      "pygments_lexer": "ipython3",
      "version": "3.7.7"
    },
    "colab": {
      "name": "Modelo Fraude em Cartão de Crédito.ipynb",
      "provenance": []
    }
  },
  "cells": [
    {
      "cell_type": "code",
      "metadata": {
        "id": "pQO2wTWu0ofG",
        "colab_type": "code",
        "colab": {}
      },
      "source": [
        "#primeiramente as bibliotecas de exportação + cálculo\n",
        "import pandas as pd\n",
        "import seaborn as sns\n",
        "import numpy as np\n",
        "import matplotlib.pyplot as plt\n",
        "#depois importar as dependências para a criação do modelo\n",
        "from sklearn.linear_model import LogisticRegression \n",
        "from sklearn.model_selection import train_test_split\n",
        "from sklearn.preprocessing import StandardScaler\n",
        "#e importar dependencias para avaliar o modelo\n",
        "from sklearn.metrics import confusion_matrix, classification_report, accuracy_score\n",
        "#importar"
      ],
      "execution_count": null,
      "outputs": []
    },
    {
      "cell_type": "code",
      "metadata": {
        "id": "sF3qIckH0ofO",
        "colab_type": "code",
        "colab": {},
        "outputId": "6f04b415-0553-4321-f149-8358421bb5d5"
      },
      "source": [
        "# para melhor organização e claridade dos dados, criaremos uma variável para o path\n",
        "dados_path = \"C:/Users/IP/Documents/PROGRAMAÇÃO PYTHON/DATA PROJECTS/Credit Card Fraud (Classification ML Model)/CREDIT CARD FRAUD DATASET.csv\"\n",
        "\n",
        "#ai leremos o csv com a função do pandas\n",
        "dados_cartao = pd.read_csv(dados_path)\n",
        "\n",
        "dados_cartao.shape"
      ],
      "execution_count": null,
      "outputs": [
        {
          "output_type": "execute_result",
          "data": {
            "text/plain": [
              "(284807, 32)"
            ]
          },
          "metadata": {
            "tags": []
          },
          "execution_count": 9
        }
      ]
    },
    {
      "cell_type": "code",
      "metadata": {
        "id": "5lP-GMuE0ofX",
        "colab_type": "code",
        "colab": {},
        "outputId": "48329b1f-f79a-4a99-bbcd-cf2f407173a7"
      },
      "source": [
        "#primeiramente, veremos as 5 primeiras e 5 últimas linhas do dataset para avaliar\n",
        "\n",
        "#dados_cartao.head()\n",
        "dados_cartao.tail()\n",
        "\n",
        "\n",
        "#as variáveis mais claras que temos são: time (tempo), amount (valor gasto) \n",
        "#e class(sendo 0 não fraudulento e 1 fraudulento)\n",
        "#até então tanto no head quanto no tail apenas temos transação não fraudulentas"
      ],
      "execution_count": null,
      "outputs": [
        {
          "output_type": "execute_result",
          "data": {
            "text/html": [
              "<div>\n",
              "<style scoped>\n",
              "    .dataframe tbody tr th:only-of-type {\n",
              "        vertical-align: middle;\n",
              "    }\n",
              "\n",
              "    .dataframe tbody tr th {\n",
              "        vertical-align: top;\n",
              "    }\n",
              "\n",
              "    .dataframe thead th {\n",
              "        text-align: right;\n",
              "    }\n",
              "</style>\n",
              "<table border=\"1\" class=\"dataframe\">\n",
              "  <thead>\n",
              "    <tr style=\"text-align: right;\">\n",
              "      <th></th>\n",
              "      <th>Unnamed: 0</th>\n",
              "      <th>Time</th>\n",
              "      <th>V1</th>\n",
              "      <th>V2</th>\n",
              "      <th>V3</th>\n",
              "      <th>V4</th>\n",
              "      <th>V5</th>\n",
              "      <th>V6</th>\n",
              "      <th>V7</th>\n",
              "      <th>V8</th>\n",
              "      <th>...</th>\n",
              "      <th>V21</th>\n",
              "      <th>V22</th>\n",
              "      <th>V23</th>\n",
              "      <th>V24</th>\n",
              "      <th>V25</th>\n",
              "      <th>V26</th>\n",
              "      <th>V27</th>\n",
              "      <th>V28</th>\n",
              "      <th>Amount</th>\n",
              "      <th>Class</th>\n",
              "    </tr>\n",
              "  </thead>\n",
              "  <tbody>\n",
              "    <tr>\n",
              "      <th>284802</th>\n",
              "      <td>284803</td>\n",
              "      <td>172786.0</td>\n",
              "      <td>-11.881118</td>\n",
              "      <td>10.071785</td>\n",
              "      <td>-9.834783</td>\n",
              "      <td>-2.066656</td>\n",
              "      <td>-5.364473</td>\n",
              "      <td>-2.606837</td>\n",
              "      <td>-4.918215</td>\n",
              "      <td>7.305334</td>\n",
              "      <td>...</td>\n",
              "      <td>0.213454</td>\n",
              "      <td>0.111864</td>\n",
              "      <td>1.014480</td>\n",
              "      <td>-0.509348</td>\n",
              "      <td>1.436807</td>\n",
              "      <td>0.250034</td>\n",
              "      <td>0.943651</td>\n",
              "      <td>0.823731</td>\n",
              "      <td>0.77</td>\n",
              "      <td>0</td>\n",
              "    </tr>\n",
              "    <tr>\n",
              "      <th>284803</th>\n",
              "      <td>284804</td>\n",
              "      <td>172787.0</td>\n",
              "      <td>-0.732789</td>\n",
              "      <td>-0.055080</td>\n",
              "      <td>2.035030</td>\n",
              "      <td>-0.738589</td>\n",
              "      <td>0.868229</td>\n",
              "      <td>1.058415</td>\n",
              "      <td>0.024330</td>\n",
              "      <td>0.294869</td>\n",
              "      <td>...</td>\n",
              "      <td>0.214205</td>\n",
              "      <td>0.924384</td>\n",
              "      <td>0.012463</td>\n",
              "      <td>-1.016226</td>\n",
              "      <td>-0.606624</td>\n",
              "      <td>-0.395255</td>\n",
              "      <td>0.068472</td>\n",
              "      <td>-0.053527</td>\n",
              "      <td>24.79</td>\n",
              "      <td>0</td>\n",
              "    </tr>\n",
              "    <tr>\n",
              "      <th>284804</th>\n",
              "      <td>284805</td>\n",
              "      <td>172788.0</td>\n",
              "      <td>1.919565</td>\n",
              "      <td>-0.301254</td>\n",
              "      <td>-3.249640</td>\n",
              "      <td>-0.557828</td>\n",
              "      <td>2.630515</td>\n",
              "      <td>3.031260</td>\n",
              "      <td>-0.296827</td>\n",
              "      <td>0.708417</td>\n",
              "      <td>...</td>\n",
              "      <td>0.232045</td>\n",
              "      <td>0.578229</td>\n",
              "      <td>-0.037501</td>\n",
              "      <td>0.640134</td>\n",
              "      <td>0.265745</td>\n",
              "      <td>-0.087371</td>\n",
              "      <td>0.004455</td>\n",
              "      <td>-0.026561</td>\n",
              "      <td>67.88</td>\n",
              "      <td>0</td>\n",
              "    </tr>\n",
              "    <tr>\n",
              "      <th>284805</th>\n",
              "      <td>284806</td>\n",
              "      <td>172788.0</td>\n",
              "      <td>-0.240440</td>\n",
              "      <td>0.530483</td>\n",
              "      <td>0.702510</td>\n",
              "      <td>0.689799</td>\n",
              "      <td>-0.377961</td>\n",
              "      <td>0.623708</td>\n",
              "      <td>-0.686180</td>\n",
              "      <td>0.679145</td>\n",
              "      <td>...</td>\n",
              "      <td>0.265245</td>\n",
              "      <td>0.800049</td>\n",
              "      <td>-0.163298</td>\n",
              "      <td>0.123205</td>\n",
              "      <td>-0.569159</td>\n",
              "      <td>0.546668</td>\n",
              "      <td>0.108821</td>\n",
              "      <td>0.104533</td>\n",
              "      <td>10.00</td>\n",
              "      <td>0</td>\n",
              "    </tr>\n",
              "    <tr>\n",
              "      <th>284806</th>\n",
              "      <td>284807</td>\n",
              "      <td>172792.0</td>\n",
              "      <td>-0.533413</td>\n",
              "      <td>-0.189733</td>\n",
              "      <td>0.703337</td>\n",
              "      <td>-0.506271</td>\n",
              "      <td>-0.012546</td>\n",
              "      <td>-0.649617</td>\n",
              "      <td>1.577006</td>\n",
              "      <td>-0.414650</td>\n",
              "      <td>...</td>\n",
              "      <td>0.261057</td>\n",
              "      <td>0.643078</td>\n",
              "      <td>0.376777</td>\n",
              "      <td>0.008797</td>\n",
              "      <td>-0.473649</td>\n",
              "      <td>-0.818267</td>\n",
              "      <td>-0.002415</td>\n",
              "      <td>0.013649</td>\n",
              "      <td>217.00</td>\n",
              "      <td>0</td>\n",
              "    </tr>\n",
              "  </tbody>\n",
              "</table>\n",
              "<p>5 rows × 32 columns</p>\n",
              "</div>"
            ],
            "text/plain": [
              "        Unnamed: 0      Time         V1         V2        V3        V4  \\\n",
              "284802      284803  172786.0 -11.881118  10.071785 -9.834783 -2.066656   \n",
              "284803      284804  172787.0  -0.732789  -0.055080  2.035030 -0.738589   \n",
              "284804      284805  172788.0   1.919565  -0.301254 -3.249640 -0.557828   \n",
              "284805      284806  172788.0  -0.240440   0.530483  0.702510  0.689799   \n",
              "284806      284807  172792.0  -0.533413  -0.189733  0.703337 -0.506271   \n",
              "\n",
              "              V5        V6        V7        V8  ...       V21       V22  \\\n",
              "284802 -5.364473 -2.606837 -4.918215  7.305334  ...  0.213454  0.111864   \n",
              "284803  0.868229  1.058415  0.024330  0.294869  ...  0.214205  0.924384   \n",
              "284804  2.630515  3.031260 -0.296827  0.708417  ...  0.232045  0.578229   \n",
              "284805 -0.377961  0.623708 -0.686180  0.679145  ...  0.265245  0.800049   \n",
              "284806 -0.012546 -0.649617  1.577006 -0.414650  ...  0.261057  0.643078   \n",
              "\n",
              "             V23       V24       V25       V26       V27       V28  Amount  \\\n",
              "284802  1.014480 -0.509348  1.436807  0.250034  0.943651  0.823731    0.77   \n",
              "284803  0.012463 -1.016226 -0.606624 -0.395255  0.068472 -0.053527   24.79   \n",
              "284804 -0.037501  0.640134  0.265745 -0.087371  0.004455 -0.026561   67.88   \n",
              "284805 -0.163298  0.123205 -0.569159  0.546668  0.108821  0.104533   10.00   \n",
              "284806  0.376777  0.008797 -0.473649 -0.818267 -0.002415  0.013649  217.00   \n",
              "\n",
              "        Class  \n",
              "284802      0  \n",
              "284803      0  \n",
              "284804      0  \n",
              "284805      0  \n",
              "284806      0  \n",
              "\n",
              "[5 rows x 32 columns]"
            ]
          },
          "metadata": {
            "tags": []
          },
          "execution_count": 3
        }
      ]
    },
    {
      "cell_type": "code",
      "metadata": {
        "id": "UEJk7fW-0ofg",
        "colab_type": "code",
        "colab": {},
        "outputId": "8ba142eb-ba0f-4526-f2a5-9325bb74fce1"
      },
      "source": [
        "#vamos avaliar se o dataset tem valores faltantes\n",
        "\n",
        "dados_cartao.isnull().sum()\n",
        "\n",
        "#ufa! um dataset tecnicamente sem nenhum valor faltante"
      ],
      "execution_count": null,
      "outputs": [
        {
          "output_type": "execute_result",
          "data": {
            "text/plain": [
              "Unnamed: 0    0\n",
              "Time          0\n",
              "V1            0\n",
              "V2            0\n",
              "V3            0\n",
              "V4            0\n",
              "V5            0\n",
              "V6            0\n",
              "V7            0\n",
              "V8            0\n",
              "V9            0\n",
              "V10           0\n",
              "V11           0\n",
              "V12           0\n",
              "V13           0\n",
              "V14           0\n",
              "V15           0\n",
              "V16           0\n",
              "V17           0\n",
              "V18           0\n",
              "V19           0\n",
              "V20           0\n",
              "V21           0\n",
              "V22           0\n",
              "V23           0\n",
              "V24           0\n",
              "V25           0\n",
              "V26           0\n",
              "V27           0\n",
              "V28           0\n",
              "Amount        0\n",
              "Class         0\n",
              "dtype: int64"
            ]
          },
          "metadata": {
            "tags": []
          },
          "execution_count": 4
        }
      ]
    },
    {
      "cell_type": "code",
      "metadata": {
        "id": "u4feqqmy0ofl",
        "colab_type": "code",
        "colab": {}
      },
      "source": [
        "#prosseguiremos agora em criar variávels para analisar/visualizar\n",
        "\n",
        "fraude = dados_cartao.loc[dados_cartao['Class'] == 1] #ou seja, 1 é fraude\n",
        "\n",
        "seguro = dados_cartao.loc[dados_cartao['Class'] == 0] #ou seja, 0 é ok\n",
        "\n"
      ],
      "execution_count": null,
      "outputs": []
    },
    {
      "cell_type": "code",
      "metadata": {
        "id": "Z25_kVHF0oft",
        "colab_type": "code",
        "colab": {},
        "outputId": "16424121-0ea5-4121-97c5-bb7694a04b0d"
      },
      "source": [
        "#para contarmos a quantidade de vezes que temos fraude, usaremos\n",
        "# a função len()\n",
        "\n",
        "len(fraude) #poucas, contra a quantidade total de linhas (284807)"
      ],
      "execution_count": null,
      "outputs": [
        {
          "output_type": "execute_result",
          "data": {
            "text/plain": [
              "492"
            ]
          },
          "metadata": {
            "tags": []
          },
          "execution_count": 10
        }
      ]
    },
    {
      "cell_type": "code",
      "metadata": {
        "id": "KOijs1s_0ofy",
        "colab_type": "code",
        "colab": {},
        "outputId": "260dba27-83ae-4b45-97fc-9a3b65665d22"
      },
      "source": [
        "#podemos usar o relation plot do sns para analisarmos as\n",
        "#relações entre nossas variáveis de interesse\n",
        "\n",
        "vis_1 = sns.relplot(x = 'Time', y = 'Amount', hue = 'Class', data = dados_cartao)\n",
        "\n",
        "vis_1\n",
        "\n",
        "#infelizmente, como a quantidade de frauds é pequena, é dificil visualizar\n",
        "#especialmente dada a densidade e concentração dos valores"
      ],
      "execution_count": null,
      "outputs": [
        {
          "output_type": "execute_result",
          "data": {
            "text/plain": [
              "<seaborn.axisgrid.FacetGrid at 0x265ce363b48>"
            ]
          },
          "metadata": {
            "tags": []
          },
          "execution_count": 17
        },
        {
          "output_type": "display_data",
          "data": {
            "image/png": "[encoded data removed]",
            "text/plain": [
              "<Figure size 422.375x360 with 1 Axes>"
            ]
          },
          "metadata": {
            "tags": [],
            "needs_background": "light"
          }
        }
      ]
    },
    {
      "cell_type": "code",
      "metadata": {
        "id": "xLeWPsI_0of6",
        "colab_type": "code",
        "colab": {}
      },
      "source": [
        "#iremos começar a mexer com alguns tipos diferentes de modelo\n",
        "#para começar: usaremos o já importado linear_model\n",
        "X = dados_cartao.iloc[:, :-1] #usaremos tudo menos o target como feature \n",
        "y = dados_cartao.loc[:, 'Class'] #nosso target é se é fraude ou não\n",
        "\n"
      ],
      "execution_count": null,
      "outputs": []
    },
    {
      "cell_type": "code",
      "metadata": {
        "id": "7aoS0OR10of-",
        "colab_type": "code",
        "colab": {}
      },
      "source": [
        "#como tivemos um aviso na primeira vez que tentamos fitar o modelo\n",
        "#iremos utilizar o standartscaler para evitar problemas\n",
        "\n",
        "sc = StandardScaler()\n",
        "\n",
        "sc_x = sc.fit(X)\n",
        "\n",
        "X = sc_x.transform(X)\n",
        "\n",
        "#passaremos o train_test_split para separar parte para validação\n",
        "#separaremos por 70/30\n",
        "\n",
        "X_treino, X_val, y_treino, y_val = train_test_split(X, y, test_size = 0.35)"
      ],
      "execution_count": null,
      "outputs": []
    },
    {
      "cell_type": "code",
      "metadata": {
        "id": "c579Dlg90ogE",
        "colab_type": "code",
        "colab": {},
        "outputId": "9d199456-8b14-4a20-aafe-83c0bbf4797f"
      },
      "source": [
        "#hora de criar o modelo + ajustar\n",
        "\n",
        "modelo1 = LogisticRegression(C=1e5) #colocamos C como parametro para otimizar  \n",
        "\n",
        "modelo1.fit(X_treino, y_treino)"
      ],
      "execution_count": null,
      "outputs": [
        {
          "output_type": "stream",
          "text": [
            "C:\\Users\\IP\\anaconda3\\lib\\site-packages\\sklearn\\linear_model\\_logistic.py:764: ConvergenceWarning: lbfgs failed to converge (status=1):\n",
            "STOP: TOTAL NO. of ITERATIONS REACHED LIMIT.\n",
            "\n",
            "Increase the number of iterations (max_iter) or scale the data as shown in:\n",
            "    https://scikit-learn.org/stable/modules/preprocessing.html\n",
            "Please also refer to the documentation for alternative solver options:\n",
            "    https://scikit-learn.org/stable/modules/linear_model.html#logistic-regression\n",
            "  extra_warning_msg=_LOGISTIC_SOLVER_CONVERGENCE_MSG)\n"
          ],
          "name": "stderr"
        },
        {
          "output_type": "execute_result",
          "data": {
            "text/plain": [
              "LogisticRegression(C=100000.0)"
            ]
          },
          "metadata": {
            "tags": []
          },
          "execution_count": 72
        }
      ]
    },
    {
      "cell_type": "code",
      "metadata": {
        "id": "ArQiJ6_b0ogK",
        "colab_type": "code",
        "colab": {}
      },
      "source": [
        "#vamos criar a previsão do modelo e transformar em arrays do numpy\n",
        "\n",
        "y_prev = np.array(modelo1.predict(X_val))\n",
        "\n",
        "y_val_a = np.array(y_val) #também transformaremos o y validador em array"
      ],
      "execution_count": null,
      "outputs": []
    },
    {
      "cell_type": "code",
      "metadata": {
        "id": "b_gP2lHE0ogR",
        "colab_type": "code",
        "colab": {},
        "outputId": "ddbc7603-7df4-45bf-f76c-f40426380289"
      },
      "source": [
        "#hora de fazer as avaliações, começando com a acurácia\n",
        "\n",
        "acc = accuracy_score(y_val_a, y_prev)\n",
        "\n",
        "print(acc)"
      ],
      "execution_count": null,
      "outputs": [
        {
          "output_type": "stream",
          "text": [
            "0.9991773923336978\n"
          ],
          "name": "stdout"
        }
      ]
    },
    {
      "cell_type": "code",
      "metadata": {
        "id": "NxyDARH40ogX",
        "colab_type": "code",
        "colab": {},
        "outputId": "9bc237b6-9627-46fc-bb76-5b4e77f43b78"
      },
      "source": [
        "#então agora avaliaremos com a matrix de confusão\n",
        "\n",
        "mat_conf = confusion_matrix(y_val_a, y_prev)\n",
        "\n",
        "print(mat_conf)"
      ],
      "execution_count": null,
      "outputs": [
        {
          "output_type": "stream",
          "text": [
            "[[99486    19]\n",
            " [   63   115]]\n"
          ],
          "name": "stdout"
        }
      ]
    },
    {
      "cell_type": "code",
      "metadata": {
        "id": "yDzIMtRT0ogn",
        "colab_type": "code",
        "colab": {},
        "outputId": "bcf5d9cc-5548-4242-ee66-bb3b2ca6a836"
      },
      "source": [
        "#a última avaliação será feita usando o classification report\n",
        "\n",
        "clas_rep = classification_report(y_val_a, y_prev)\n",
        "\n",
        "print(clas_rep)"
      ],
      "execution_count": null,
      "outputs": [
        {
          "output_type": "stream",
          "text": [
            "              precision    recall  f1-score   support\n",
            "\n",
            "           0       1.00      1.00      1.00     99505\n",
            "           1       0.86      0.65      0.74       178\n",
            "\n",
            "    accuracy                           1.00     99683\n",
            "   macro avg       0.93      0.82      0.87     99683\n",
            "weighted avg       1.00      1.00      1.00     99683\n",
            "\n"
          ],
          "name": "stdout"
        }
      ]
    },
    {
      "cell_type": "code",
      "metadata": {
        "id": "KYbAD-MN0og2",
        "colab_type": "code",
        "colab": {}
      },
      "source": [
        "#no final, o modelo teve avaliações boas dado o uso de\n",
        "#padronização, porém irei investigar em breve outros\n",
        "#algoritmos"
      ],
      "execution_count": null,
      "outputs": []
    }
  ]
}